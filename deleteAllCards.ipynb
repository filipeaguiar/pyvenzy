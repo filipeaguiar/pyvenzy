{
 "cells": [
  {
   "cell_type": "markdown",
   "metadata": {},
   "source": [
    "# Ler todos os cartões"
   ]
  },
  {
   "cell_type": "code",
   "execution_count": null,
   "metadata": {},
   "outputs": [],
   "source": [
    "import requests\n",
    "import warnings\n",
    "import json\n",
    "import time\n",
    "import settings\n",
    "from datetime import datetime\n",
    "\n",
    "settings.init()\n",
    "warnings.filterwarnings(\"ignore\")\n",
    "baseUrl = settings.baseUrl\n",
    "\n",
    "response = requests.get(f'{baseUrl}/cards?limit=1000000000', verify=False)\n",
    "cards = response.json()"
   ]
  },
  {
   "cell_type": "markdown",
   "metadata": {},
   "source": [
    "## Desvincular e apagar cartões"
   ]
  },
  {
   "cell_type": "code",
   "execution_count": null,
   "metadata": {},
   "outputs": [],
   "source": [
    "for card in cards:\n",
    "  if card[\"CHID\"]:\n",
    "    url = f\"{baseUrl}/cardholders/{card['CHID']}/cards/{card['CardID']}\"\n",
    "    response = requests.delete(url, verify=False)\n",
    "    print(f'Limpando associação: {card[\"CardID\"]} - {card[\"CHID\"]} {response.text}')\n",
    "    card_url = baseUrl + \"/cards/\" + str(card[\"CardID\"])\n",
    "    response = requests.delete(url, verify=False)\n",
    "    print(f'Apagando Cartão: {card[\"CardID\"]} - {response.status_code}')\n",
    "    time.sleep(1/1000)\n",
    "  else:\n",
    "    url = baseUrl + \"/cards/\" + str(card[\"CardID\"])\n",
    "    response = requests.delete(url, verify=False)\n",
    "    print(f'Apagando Cartão: {card[\"CardID\"]} - {response.status_code}')\n",
    "    time.sleep(1/1000)\n"
   ]
  },
  {
   "cell_type": "markdown",
   "metadata": {},
   "source": [
    "## Criar cartões para todos os colaboradores"
   ]
  },
  {
   "cell_type": "code",
   "execution_count": null,
   "metadata": {},
   "outputs": [],
   "source": [
    "# url = f'{baseUrl}/cardholders?chtype=8&limit=100000000&includeTables=Cards'\n",
    "# def createCard(IdNumber: str):\n",
    "#     now = datetime.now().strftime(\"%y%m%d\")\n",
    "#     newCard = {\n",
    "#         \"CardNumber\": int(f'{IdNumber}{now}'),\n",
    "#         \"CardType\": 0,\n",
    "#         \"ClearCode\": f\"{IdNumber}\",\n",
    "#         \"FacilityCode\": 0,\n",
    "#         \"IsAutomaticCard\": False,\n",
    "#         \"PartitionID\": 0\n",
    "#     }\n",
    "#     print(f\"Criando Cartão para o usuário {IdNumber}\")\n",
    "#     try:\n",
    "#         createCardRequest = requests.post(f\"{baseUrl}/cards\", data=json.dumps(newCard), headers={\"Content-Type\": \"application/json\"})\n",
    "#         if not createCardRequest.ok:\n",
    "#             print(createCardRequest.text)\n",
    "#         card = createCardRequest.json()\n",
    "#         print(f\"Cartão {card['CardNumber']} Criado\")\n",
    "#         return card\n",
    "#     except Exception as error:\n",
    "#         return None\n",
    "\n",
    "# response = requests.get(url)\n",
    "# print(len(response.json()))\n",
    "# colaboradores = response.json()\n",
    "\n",
    "# for colaborador in colaboradores:\n",
    "#   card = createCard(colaborador['IdNumber'])\n",
    "#   print(f'Associando cartão {card[\"CardNumber\"]} ao colaborador {colaborador[\"CHID\"]}')\n",
    "#   requests.post(f'{baseUrl}/cardholders/{colaborador[\"CHID\"]}/cards', data=json.dumps(card), headers={\"Content-Type\": \"application/json\"})"
   ]
  },
  {
   "cell_type": "code",
   "execution_count": null,
   "metadata": {},
   "outputs": [],
   "source": [
    "# estudantes = requests.get(url, verify=False).json()\n",
    "\n",
    "# for estudante in estudantes:\n",
    "#     if estudante['Cards']:\n",
    "#       print(f\"{estudante['CHID']} - {estudante['FirstName']} {estudante['Cards'][0]['CardNumber']}\")\n"
   ]
  }
 ],
 "metadata": {
  "kernelspec": {
   "display_name": "Python 3 (ipykernel)",
   "language": "python",
   "name": "python3"
  },
  "language_info": {
   "codemirror_mode": {
    "name": "ipython",
    "version": 3
   },
   "file_extension": ".py",
   "mimetype": "text/x-python",
   "name": "python",
   "nbconvert_exporter": "python",
   "pygments_lexer": "ipython3",
   "version": "3.11.4"
  },
  "orig_nbformat": 4
 },
 "nbformat": 4,
 "nbformat_minor": 2
}
