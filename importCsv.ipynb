{
 "cells": [
  {
   "cell_type": "markdown",
   "metadata": {},
   "source": [
    "# Inicialização"
   ]
  },
  {
   "cell_type": "code",
   "execution_count": null,
   "metadata": {},
   "outputs": [],
   "source": [
    "%reload_ext autoreload\n",
    "%autoreload 2"
   ]
  },
  {
   "cell_type": "code",
   "execution_count": null,
   "metadata": {},
   "outputs": [],
   "source": [
    "import requests, csv\n",
    "import settings\n",
    "from combolists import ComboList\n",
    "from accesslevel import AccessLevel\n",
    "from dotenv import load_dotenv\n",
    "import warnings\n",
    "from colaborador import Colaborador\n",
    "from paciente import Paciente\n",
    "from acompanhante import Acompanhante\n",
    "from time import sleep\n",
    "from helperfunctions import helper\n",
    "from database import DataBase\n",
    "from estudante import Estudante\n",
    "from datetime import datetime\n",
    "from time import strftime, strptime\n",
    "import json\n",
    "\n",
    "warnings.filterwarnings(\"ignore\")\n",
    "load_dotenv()\n",
    "settings.init()\n",
    "settings.combofields = ComboList.getComboLists()\n",
    "settings.accesslevels = AccessLevel.getAccessLevels()"
   ]
  },
  {
   "cell_type": "markdown",
   "metadata": {},
   "source": [
    "## Código"
   ]
  },
  {
   "cell_type": "markdown",
   "metadata": {},
   "source": [
    "### ESTUDANTES"
   ]
  },
  {
   "cell_type": "code",
   "execution_count": null,
   "metadata": {},
   "outputs": [],
   "source": [
    "\n",
    "\n",
    "def Vinculo(vinculo):\n",
    "    returnValue = \"\"\n",
    "\n",
    "    match vinculo:\n",
    "        case \"VINCULO INTEGRACAO\": returnValue =\t\"955\"\n",
    "        case \"RJU - UFPE\": returnValue =\t\"1\"\n",
    "        case \"NASS - UFPE\": returnValue =\t\"2\"\n",
    "        case \"RESIDENTE\": returnValue =\t\"3\"\n",
    "        case \"EBSERH - CLT\": returnValue =\t\"4\"\n",
    "        case \"TERCEIRIZADO\": returnValue =\t\"5\"\n",
    "        case \"EBSERH - REQUISITADO\": returnValue =\t\"6\"\n",
    "        case \"BOLSISTA - ESTAGIARIO\": returnValue =\t\"7\"\n",
    "        case \"PROFESSOR\": returnValue =\t\"8\"\n",
    "        case \"VOLUNTÁRIO\": returnValue =\t\"9\"\n",
    "        case \"ESTUDANTE\": returnValue =\t\"10\"\n",
    "    return returnValue\n",
    "\n",
    "with open(\"teste.csv\", encoding=\"utf-8\") as arquivo_csv:\n",
    "    arquivo = csv.reader(arquivo_csv, delimiter=\";\")\n",
    "    arquivo.__next__()\n",
    "\n",
    "    for row in arquivo:\n",
    "        nome = row[0]\n",
    "        exibicao = row[1]\n",
    "        matricula = row[2]\n",
    "        vinculo = row[3]\n",
    "        cpf = row[4]\n",
    "        grupo = row[5]\n",
    "        curso = row[8]\n",
    "        inicio_vinculo = row[6]\n",
    "        fim_vinculo = row[7]\n",
    "\n",
    "        user = {\n",
    "            \"CHType\": 8,\n",
    "            \"FirstName\": nome,\n",
    "            \"IdNumber\": matricula + Vinculo(vinculo),\n",
    "            \"AuxText02\": exibicao or None,\n",
    "            \"AuxText03\": matricula,\n",
    "            \"AuxText04\": cpf or None,\n",
    "            \"AuxDte02\": datetime.strptime(inicio_vinculo, \"%d/%m/%Y\").isoformat(),\n",
    "            \"AuxDte03\": datetime.strptime(fim_vinculo, \"%d/%m/%Y\").isoformat(),\n",
    "            \"CHState\": 0,\n",
    "            \"AuxLst01\": ComboList.getIndex(8, \"AuxLst01\", grupo),\n",
    "            \"AuxLst02\": ComboList.getIndex(8, \"AuxLst02\", curso),\n",
    "            \"AuxLst03\": None,\n",
    "            \"AuxLst04\": ComboList.getIndex(8, \"AuxLst04\", vinculo),\n",
    "        }\n",
    "        colaboradorInvenzi = Colaborador.getColaboradorByIdNumber(\n",
    "            (user[\"IdNumber\"])\n",
    "        )\n",
    "        print(json.dumps(user, indent=2))\n",
    "        if colaboradorInvenzi:\n",
    "            # AccessLevel.addAccessLevel(colaboradorInvenzi[0][\"CHID\"], \"Acesso estudante\")\n",
    "            requests.delete(f'{settings.baseUrl}/cardholders/{colaboradorInvenzi[0][\"CHID\"]}', verify=False)\n",
    "            print(colaboradorInvenzi)\n",
    "        else:\n",
    "            colaborador = Estudante.createEstudante(user)\n",
    "            AccessLevel.addAccessLevel(\n",
    "                colaborador[\"CHID\"], \"Acesso estudante\"\n",
    "            )\n",
    "            print(colaborador)\n",
    "            # print(\"Colaborador não existe\")"
   ]
  }
 ],
 "metadata": {
  "kernelspec": {
   "display_name": "base",
   "language": "python",
   "name": "python3"
  },
  "language_info": {
   "codemirror_mode": {
    "name": "ipython",
    "version": 3
   },
   "file_extension": ".py",
   "mimetype": "text/x-python",
   "name": "python",
   "nbconvert_exporter": "python",
   "pygments_lexer": "ipython3",
   "version": "3.11.4"
  },
  "orig_nbformat": 4
 },
 "nbformat": 4,
 "nbformat_minor": 2
}
