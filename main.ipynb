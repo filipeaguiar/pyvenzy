{
 "cells": [
  {
   "cell_type": "code",
   "execution_count": 4,
   "metadata": {},
   "outputs": [],
   "source": [
    "%reload_ext autoreload\n",
    "%autoreload 2"
   ]
  },
  {
   "cell_type": "markdown",
   "metadata": {},
   "source": [
    "# Main code"
   ]
  },
  {
   "cell_type": "markdown",
   "metadata": {},
   "source": [
    "## Inicialização"
   ]
  },
  {
   "cell_type": "code",
   "execution_count": 5,
   "metadata": {},
   "outputs": [],
   "source": [
    "import settings\n",
    "from combolists import ComboList\n",
    "from accesslevel import AccessLevel\n",
    "from dotenv import load_dotenv\n",
    "import warnings\n",
    "from colaborador import Colaborador\n",
    "from paciente import Paciente\n",
    "from acompanhante import Acompanhante\n",
    "from time import sleep\n",
    "from helperfunctions import helper\n",
    "from database import DataBase\n",
    "from estudante import Estudante\n",
    "from datetime import datetime\n",
    "\n",
    "warnings.filterwarnings(\"ignore\")\n",
    "load_dotenv()\n",
    "settings.init()\n",
    "settings.combofields = ComboList.getComboLists()\n",
    "settings.accesslevels = AccessLevel.getAccessLevels()\n",
    "currentDate = DataBase.getTime()"
   ]
  },
  {
   "cell_type": "markdown",
   "metadata": {},
   "source": [
    "## Testes:"
   ]
  },
  {
   "cell_type": "code",
   "execution_count": 6,
   "metadata": {},
   "outputs": [
    {
     "name": "stdout",
     "output_type": "stream",
     "text": [
      "[RealDictRow([('IdNumber', 11258456), ('CHState', 0)]), RealDictRow([('IdNumber', 11973807), ('CHState', 1)]), RealDictRow([('IdNumber', 12984894), ('CHState', 1)]), RealDictRow([('IdNumber', 15727654), ('CHState', 0)]), RealDictRow([('IdNumber', 17638115), ('CHState', 0)]), RealDictRow([('IdNumber', 17938572), ('CHState', 0)]), RealDictRow([('IdNumber', 18243485), ('CHState', 0)]), RealDictRow([('IdNumber', 18749440), ('CHState', 1)]), RealDictRow([('IdNumber', 19408541), ('CHState', 0)]), RealDictRow([('IdNumber', 20552188), ('CHState', 1)]), RealDictRow([('IdNumber', 20681557), ('CHState', 0)]), RealDictRow([('IdNumber', 20681557), ('CHState', 0)]), RealDictRow([('IdNumber', 21322458), ('CHState', 0)]), RealDictRow([('IdNumber', 21400403), ('CHState', 1)]), RealDictRow([('IdNumber', 21494521), ('CHState', 1)]), RealDictRow([('IdNumber', 21509336), ('CHState', 0)]), RealDictRow([('IdNumber', 21512785), ('CHState', 1)]), RealDictRow([('IdNumber', 21529938), ('CHState', 1)]), RealDictRow([('IdNumber', 21577457), ('CHState', 0)]), RealDictRow([('IdNumber', 21631759), ('CHState', 1)]), RealDictRow([('IdNumber', 21635222), ('CHState', 1)]), RealDictRow([('IdNumber', 21640925), ('CHState', 1)])]\n"
     ]
    }
   ],
   "source": [
    "# usuarios = Colaborador.getAllUpdates(settings.lastUpdated)\n",
    "# colaboradores = Colaborador.getColaboradores(usuarios)\n",
    "# estudantes = Estudante.getEstudantes(usuarios)\n",
    "# Colaborador.updateColaboradores(colaboradores)\n",
    "# Estudante.updateEstudantes(estudantes)\n",
    "# Acompanhante.syncAcompanhantes(settings.lastUpdated)\n",
    "# pacientes = Paciente.getPacientes(settings.lastUpdated)\n",
    "# Paciente.updatePacientes(pacientes)\n",
    "\n",
    "# now = datetime.now()\n",
    "# start_time = now.replace(hour=0, minute=0, second=0, microsecond=0)\n",
    "# end_time = now.replace(hour=0, minute=0, second=31, microsecond=0)\n",
    "\n",
    "# if start_time <= now <= end_time:\n",
    "#     pacientes_diarios = Paciente.getLiberacoesDiarias()\n",
    "#     for paciente in pacientes_diarios:\n",
    "#         Paciente.ativarPaciente(paciente[\"prontuario\"])\n",
    "\n",
    "pacientes_liberacao = Paciente.getLiberacoes(settings.lastUpdated)\n",
    "print(pacientes_liberacao)\n",
    "# for paciente in pacientes_liberacao:\n",
    "#     if paciente[\"CHState\"] == 1:\n",
    "#       Paciente.desativarPaciente(paciente[\"IdNumber\"])\n",
    "#     elif paciente[\"CHState\"] == 0:\n",
    "#         Paciente.ativarPaciente(paciente[\"IdNumber\"])\n",
    "\n",
    "helper.updateTime(currentDate)\n",
    "\n"
   ]
  }
 ],
 "metadata": {
  "kernelspec": {
   "display_name": "base",
   "language": "python",
   "name": "python3"
  },
  "language_info": {
   "codemirror_mode": {
    "name": "ipython",
    "version": 3
   },
   "file_extension": ".py",
   "mimetype": "text/x-python",
   "name": "python",
   "nbconvert_exporter": "python",
   "pygments_lexer": "ipython3",
   "version": "3.11.4"
  },
  "orig_nbformat": 4
 },
 "nbformat": 4,
 "nbformat_minor": 2
}
