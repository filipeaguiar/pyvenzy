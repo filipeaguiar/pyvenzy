{
 "cells": [
  {
   "cell_type": "code",
   "execution_count": 9,
   "metadata": {},
   "outputs": [],
   "source": [
    "%reload_ext autoreload\n",
    "%autoreload 2"
   ]
  },
  {
   "cell_type": "markdown",
   "metadata": {},
   "source": [
    "# Sandbox"
   ]
  },
  {
   "cell_type": "code",
   "execution_count": 15,
   "metadata": {},
   "outputs": [],
   "source": [
    "import settings\n",
    "from combolists import ComboList\n",
    "from accesslevel import AccessLevel\n",
    "from dotenv import load_dotenv\n",
    "import warnings\n",
    "from card import Card\n",
    "from colaborador import Colaborador\n",
    "from paciente import Paciente\n",
    "from time import sleep\n",
    "from helperfunctions import helper\n",
    "from database import DataBase\n",
    "from acompanhante import Acompanhante\n",
    "from estudante import Estudante\n",
    "import datetime\n",
    "import requests\n",
    "import json\n",
    "\n",
    "warnings.filterwarnings(\"ignore\")\n",
    "load_dotenv()\n",
    "settings.init()\n",
    "settings.combofields = ComboList.getComboLists()\n",
    "settings.accesslevels = AccessLevel.getAccessLevels()"
   ]
  },
  {
   "cell_type": "code",
   "execution_count": 18,
   "metadata": {},
   "outputs": [
    {
     "name": "stdout",
     "output_type": "stream",
     "text": [
      "[RealDictRow([('prontuario', 17947060)])]\n"
     ]
    }
   ],
   "source": [
    "pacientes_diarios = Paciente.getLiberacoesDiarias()\n",
    "\n",
    "pacientes_diarios = pacientes_diarios[5:6]\n",
    "print (pacientes_diarios)"
   ]
  },
  {
   "cell_type": "code",
   "execution_count": 19,
   "metadata": {},
   "outputs": [
    {
     "name": "stdout",
     "output_type": "stream",
     "text": [
      "Ativando Paciente: AMARO LUCINDO DA SILVA - 17947060\n"
     ]
    }
   ],
   "source": [
    "log = {}\n",
    "for paciente in pacientes_diarios:\n",
    "    log = Paciente.ativarPaciente(paciente[\"prontuario\"])"
   ]
  },
  {
   "cell_type": "code",
   "execution_count": 12,
   "metadata": {},
   "outputs": [],
   "source": [
    "# Paciente.ativarPaciente(10201527)\n",
    "# acompanhantes = requests.get(url=f\"{settings.baseUrl}/cardholders?chType=7&includeTables=Cards&limit=1000000\", verify=False)\n",
    "# for acompanhante in acompanhantes.json():\n",
    "#     Paciente.desativarPaciente(acompanhante[\"IdNumber\"])\n",
    "    \n",
    "\n",
    "# pacientes_diarios = Paciente.getLiberacoesDiarias()\n",
    "\n",
    "# for paciente in pacientes_diarios:\n",
    "#   Paciente.ativarPaciente(paciente[\"prontuario\"])\n",
    "\n",
    "# pacientes = Paciente.getLiberacoes(settings.lastUpdated)\n",
    "# for paciente in pacientes:\n",
    "#   if paciente[\"CHState\"] == 1:\n",
    "#     Paciente.desativarPaciente(paciente[\"IdNumber\"])\n",
    "#   elif paciente[\"CHState\"] == 0:\n",
    "#     Paciente.ativarPaciente(paciente[\"IdNumber\"])\n",
    "\n",
    "# helper.updateTime(currentDate)\n",
    "\n",
    "# Paciente.ativarPaciente(10000016)\n",
    "# paciente_invenzi = Paciente.getPacienteByIdNumber(10000016)\n",
    "# print(json.dumps(paciente_invenzi[0][\"Cards\"][0], indent=2))"
   ]
  },
  {
   "cell_type": "markdown",
   "metadata": {},
   "source": [
    "## Listar Usuários por Vínculo usando combolists\n",
    "- listar todos os usuários\n"
   ]
  }
 ],
 "metadata": {
  "kernelspec": {
   "display_name": "Python 3 (ipykernel)",
   "language": "python",
   "name": "python3"
  },
  "language_info": {
   "codemirror_mode": {
    "name": "ipython",
    "version": 3
   },
   "file_extension": ".py",
   "mimetype": "text/x-python",
   "name": "python",
   "nbconvert_exporter": "python",
   "pygments_lexer": "ipython3",
   "version": "3.11.4"
  }
 },
 "nbformat": 4,
 "nbformat_minor": 2
}
